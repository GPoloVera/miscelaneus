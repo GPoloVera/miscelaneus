{
 "cells": [
  {
   "cell_type": "code",
   "execution_count": null,
   "metadata": {
    "ExecuteTime": null
   },
   "outputs": [],
   "source": [
    "import numpy as np\n",
    "import numpy_financial as npf\n",
    "import pandas as pd\n",
    "import plotly.express as px\n",
    "import plotly.figure_factory as ff\n",
    "from plotly.subplots import make_subplots\n",
    "import plotly.graph_objects as go\n",
    "import collections"
   ]
  },
  {
   "cell_type": "code",
   "execution_count": null,
   "metadata": {
    "ExecuteTime": null
   },
   "outputs": [],
   "source": [
    "# Parametros\n",
    "precio_casa = 465000\n",
    "ahorros = 125000\n",
    "prestamo = 372000\n",
    "itp = 0.06 # Impuesto transmisiones patrimoniales (Madrid)\n",
    "notario = 1600\n",
    "registro = 800\n",
    "gestoria = 350\n",
    "tasacion = 875\n",
    "anios = 30\n",
    "tin = 0.0129 # Tasa interes nominal (es anual no mensual)"
   ]
  },
  {
   "cell_type": "code",
   "execution_count": null,
   "metadata": {
    "ExecuteTime": null
   },
   "outputs": [],
   "source": [
    "# # Calculos derivados\n",
    "# def calc_prestamo_inicial(precio_casa, ahorros, default_inicial = None):\n",
    "#     if not default_inicial:\n",
    "#         prestamo = precio_casa - (ahorros - itp*precio_casa - notario - registro - gestoria - tasacion)\n",
    "#     else:\n",
    "#         prestamo = default_inicial\n",
    "#     return prestamo\n",
    "\n",
    "# def calc_serie_cuota_mensual(tin, anios, precio_casa, ahorros, as_array = True, default_inicial = None):\n",
    "#     i = tin / 12\n",
    "#     r = 1/(1+i)\n",
    "#     meses = 12 * anios\n",
    "#     prestamo = calc_prestamo_inicial(precio_casa, ahorros,default_inicial)\n",
    "#     cuota = (1-r)*prestamo / (r - r**(meses+1)) # No uso aproximacion por exponencial\n",
    "#     if as_array:\n",
    "#         return cuota * np.ones(meses)\n",
    "#     else:\n",
    "#         return cuota\n",
    "\n",
    "# def calc_series_mensuales_deudas_intereses_principal(tin, anios, prestamo,cuota_mensual,extra_amortizaciones=0):\n",
    "#     i = tin/12\n",
    "#     meses = 12 * anios\n",
    "#     # Initialization\n",
    "#     deuda_mensual_prepago = np.zeros(meses)\n",
    "#     deuda_mensual_postpago = np.zeros(meses)\n",
    "#     interes_mensual = np.zeros(meses)\n",
    "#     principal_mensual = np.zeros(meses)\n",
    "#     # Fisrt values\n",
    "#     interes_mensual[0] = i * prestamo\n",
    "#     deuda_mensual_prepago[0] = prestamo + interes_mensual[0] # El primer mes es el total mas el interes\n",
    "#     deuda_mensual_postpago[0] = deuda_mensual_prepago[0] - cuota_mensual[0]\n",
    "#     principal_mensual[0] = cuota_mensual[0] - interes_mensual[0]\n",
    "    \n",
    "#     for mes in range(1,meses):\n",
    "#         interes_mensual[mes] = deuda_mensual_prepago[mes-1]*i\n",
    "#         deuda_mensual_prepago[mes] = (deuda_mensual_prepago[mes-1] - cuota_mensual[mes-1]) + interes_mensual[mes]\n",
    "#         deuda_mensual_postpago[mes] = deuda_mensual_prepago[mes] - cuota_mensual[mes]\n",
    "#         principal_mensual[mes] = cuota_mensual[mes] - interes_mensual[mes]\n",
    "        \n",
    "#     return pd.DataFrame(data={\"interes_mensual\":interes_mensual, \"deuda_mensual_prepago\":deuda_mensual_prepago,\"deuda_mensual_postpago\":deuda_mensual_postpago, \"principal_mensual\":principal_mensual}, index=np.arange(1,meses+1))\n"
   ]
  },
  {
   "cell_type": "code",
   "execution_count": null,
   "metadata": {
    "ExecuteTime": null
   },
   "outputs": [],
   "source": [
    "def calc_serie_cuota_mensual(tin, n_meses, prestamo, as_array = False):\n",
    "    i = tin / 12\n",
    "    r = 1/(1+i)\n",
    "    cuota = (1-r)*prestamo / (r - r**(n_meses+1)) # = i * prestamo / (1 - (1+i)^(-n_meses))\n",
    "    if as_array:\n",
    "        return cuota * np.ones(n_meses)\n",
    "    else:\n",
    "        return cuota\n",
    "    \n",
    "def crear_serie_amortizaciones(amortizaciones_dic, total_anios):\n",
    "    amortizaciones_anticipadas = np.zeros(total_anios*12)\n",
    "    for anio,valor_amortizado in amortizaciones_dic.items():\n",
    "        amortizaciones_anticipadas[12*anio-1] = valor_amortizado\n",
    "            \n",
    "    return amortizaciones_anticipadas\n",
    "\n",
    "def crear_serie_tins(euribor_inicial, diferencial, variaciones_euribor_dic, total_anios):\n",
    "    tin_mensuales = np.zeros(total_anios*12+1) # Tambien incluyo una posicion 0 inicial que solo capital vivo tiene\n",
    "    tin_mensuales[1:13] = euribor_inicial + diferencial # Asumo scalar el diferencial por ahora, y solo cambia a final de anio\n",
    "    for anio in range(1,total_anios):\n",
    "        tin_mensuales[12*anio+1:12*(anio+1)+1] = tin_mensuales[12*(anio-1)+1:12*(anio)+1]\n",
    "        if anio in variaciones_euribor_dic.keys():\n",
    "            tin_mensuales[12*anio+1:12*(anio+1)+1] += variaciones_euribor_dic[anio]\n",
    "            \n",
    "    return tin_mensuales\n",
    "\n",
    "def calc_series_mensuales_deudas_intereses_principal(tin, anios, prestamo,a_anticipadas=None):\n",
    "    n_meses = 12 * anios\n",
    "    \n",
    "    # Initialization\n",
    "    if not isinstance(tin,collections.Sequence):\n",
    "        tin_mensual = np.ones(n_meses+1)*tin\n",
    "    else:\n",
    "        tin_mensual = tin\n",
    "    capital_vivo = np.zeros(n_meses+1)\n",
    "    capital_amortizado = np.zeros(n_meses+1)\n",
    "    intereses = np.zeros(n_meses+1)\n",
    "    amortizacion = np.zeros(n_meses+1)\n",
    "    mensualidades=np.zeros(n_meses+1)\n",
    "    mensualidades_con_amort=np.zeros(n_meses+1) \n",
    "    if a_anticipadas is None: # Si no hay amortizaciones anticipadas las inicializo todas a cero\n",
    "        a_anticipadas = np.zeros(n_meses) # Luego se prependea un elemento siempre, por eso es n_meses long en lugar de n_meses+1\n",
    "    \n",
    "    # Mes 0 - Valores que no sean 0s\n",
    "    capital_vivo[0] = prestamo\n",
    "    a_anticipadas = np.insert(a_anticipadas, 0,0) # Prepend un 0 en la posicion 0\n",
    "    \n",
    "    for mes in range(1,n_meses+1):\n",
    "        mensualidades[mes] = calc_serie_cuota_mensual(tin=tin_mensual[mes],n_meses=n_meses-mes+1,prestamo=capital_vivo[mes-1]) \n",
    "        mensualidades_con_amort[mes]=mensualidades[mes] + a_anticipadas[mes]\n",
    "        intereses[mes] = capital_vivo[mes-1]*tin_mensual[mes]/12 # Pagas el interes sobre lo que falta por pagar (capital vivo)\n",
    "        amortizacion[mes] = mensualidades_con_amort[mes] - intereses[mes]\n",
    "        capital_vivo[mes] = capital_vivo[mes-1] - amortizacion[mes]\n",
    "        capital_amortizado[mes] = capital_amortizado[mes-1] + amortizacion[mes]\n",
    "        \n",
    "    return pd.DataFrame(data={\"mensualidades\":mensualidades,\"intereses\":intereses, \"amortizaciones\":amortizacion,\"capital_vivo\":capital_vivo, \"capital_amortizado\":capital_amortizado, \"a_anticipadas\":a_anticipadas,\"mensualidades_con_amort\":mensualidades_con_amort}, index=np.arange(n_meses+1))\n",
    "\n",
    "def calc_tae(prestamo, cuotas, gastos):\n",
    "    flujos_caja = np.zeros(len(cuotas)+1) # +1 por el Mes 0\n",
    "    flujos_caja[0] = -prestamo\n",
    "    flujos_caja[1:] = cuotas + gastos\n",
    "    TIR = npf.irr(flujos_caja)\n",
    "    TAE = (1 + TIR)**12 - 1\n",
    "    return {\"TAE\":TAE,\"TIR\":TIR}"
   ]
  },
  {
   "cell_type": "code",
   "execution_count": null,
   "metadata": {
    "ExecuteTime": null
   },
   "outputs": [],
   "source": [
    "amortizaciones_dic = {1:5000,2:12000,3:12000,4:12000,5:10000,6:10000}\n",
    "amortizaciones_futuras = crear_serie_amortizaciones(amortizaciones_dic,anios)\n",
    "# euribor_cambios = {1:0.0005,2:0.0005,3:0.0005\n",
    "#                    ,4:0.0005,5:0.0005,6:0.0005\n",
    "#                    ,7:0.001,8:0.001,9:0.001,10:0.001,11:0.0005,12:0.0005,13:0.0005}\n",
    "euribor_cambios = {1:0.001,2:0.001,3:0.001,4:0.001,5:0.001,6:0.001,7:0.001,8:0.001,9:0.001,10:0.001,11:0.001}\n",
    "tin_variables = crear_serie_tins(euribor_inicial=-0.005,diferencial=0.0090,variaciones_euribor_dic=euribor_cambios,total_anios=30)\n",
    "df = calc_series_mensuales_deudas_intereses_principal(tin_variables, anios,prestamo)\n",
    "#df = calc_series_mensuales_deudas_intereses_principal(tin, anios,prestamo)\n",
    "\n",
    "# Create figure with one Y Axe in this case\n",
    "fig = go.Figure()\n",
    "fig.add_trace(go.Scatter(x=df.index[1:], y=df.loc[:,\"intereses\"].iloc[1:],\n",
    "                    mode='lines',\n",
    "                    name='Interes pagado mensual'))\n",
    "fig.add_trace(go.Scatter(x=df.index[1:], y=df.loc[:,\"amortizaciones\"].iloc[1:],\n",
    "                    mode='lines',\n",
    "                    name='Amortizacion mensual'))\n",
    "fig.add_trace(go.Scatter(x=df.index[1:], y=df.loc[:,\"mensualidades\"].iloc[1:],\n",
    "                    mode='lines',\n",
    "                    name='Pago mensual'))\n",
    "# Set x-axis title\n",
    "fig.update_xaxes(title_text=\"Numero de mes\")\n",
    "\n",
    "# Set y-axes titles\n",
    "fig.update_yaxes(title_text=\"Euros\")\n",
    "\n",
    "# Add figure title\n",
    "fig.update_layout(\n",
    "    title_text=f\"Intereses vs principal con tin {100*tin}% - Total Intereses:{df.loc[:,'intereses'].iloc[1:].sum()}\"\n",
    ")\n",
    "\n",
    "fig.show()"
   ]
  },
  {
   "cell_type": "code",
   "execution_count": null,
   "metadata": {
    "ExecuteTime": null
   },
   "outputs": [],
   "source": [
    "# Create figure with one Y Axe in this case\n",
    "fig = go.Figure()\n",
    "fig.add_trace(go.Scatter(x=df.index[1:], y=df.loc[:,\"capital_vivo\"].iloc[1:],\n",
    "                    mode='lines',\n",
    "                    name='Capital Vivo restante'))\n",
    "fig.add_trace(go.Scatter(x=df.index[1:], y=df.loc[:,\"capital_amortizado\"].iloc[1:],\n",
    "                    mode='lines',\n",
    "                    name='Capital amortizado total'))\n",
    "fig.add_trace(go.Scatter(x=df.index[1:], y=np.ones(len(df.index[1:]))*prestamo,\n",
    "                    mode='lines',\n",
    "                    name='Prestamo Total'))\n",
    "# Set x-axis title\n",
    "fig.update_xaxes(title_text=\"Numero de mes\")\n",
    "\n",
    "# Set y-axes titles\n",
    "fig.update_yaxes(title_text=\"Euros\")\n",
    "\n",
    "# Add figure title\n",
    "fig.update_layout(\n",
    "    title_text=f\"Intereses vs principal con tin {100*tin}% - Total Intereses:{df.loc[:,'intereses'].iloc[1:].sum()}\"\n",
    ")\n",
    "\n",
    "fig.show()"
   ]
  },
  {
   "cell_type": "code",
   "execution_count": null,
   "metadata": {
    "ExecuteTime": null
   },
   "outputs": [],
   "source": [
    "# Total pagado segun cuando amortizas\n",
    "q_amort = 15000\n",
    "anios_amortizar = list(range(1,anios-3))\n",
    "total_pagado = np.zeros(len(anios_amortizar))\n",
    "for idx,anio in enumerate(anios_amortizar):\n",
    "    amortizaciones_dic = {anio:q_amort,anio+1:q_amort,anio+2:q_amort}\n",
    "    df = calc_series_mensuales_deudas_intereses_principal(tin, anios,prestamo,crear_serie_amortizaciones(amortizaciones_dic,anios))\n",
    "    total_pagado[idx] = df.loc[:,\"mensualidades_con_amort\"].sum()"
   ]
  },
  {
   "cell_type": "code",
   "execution_count": null,
   "metadata": {
    "ExecuteTime": null
   },
   "outputs": [],
   "source": [
    "# Create figure with one Y Axe in this case\n",
    "fig = go.Figure()\n",
    "fig.add_trace(go.Scatter(x=anios_amortizar, y=total_pagado,\n",
    "                    mode='lines',\n",
    "                    name='Total pagado al final del prestamo'))\n",
    "# Set x-axis title\n",
    "fig.update_xaxes(title_text=f\"Anio amortizar {q_amort} Euros durante 3 anios\")\n",
    "\n",
    "# Set y-axes titles\n",
    "fig.update_yaxes(title_text=\"Euros\")\n",
    "\n",
    "# Add figure title\n",
    "fig.update_layout(\n",
    "    title_text=f\"Total pagado segun cuando se amorticen 3 x {q_amort} reduciendo cuotra, no a\u00f1os\"\n",
    ")\n",
    "\n",
    "fig.show()"
   ]
  },
  {
   "cell_type": "code",
   "execution_count": null,
   "metadata": {
    "ExecuteTime": null
   },
   "outputs": [],
   "source": [
    "# TIN vs Total pagado\n",
    "tin_vec = np.arange(0.002,0.0185,0.0005)\n",
    "total_pagado = np.zeros(len(tin_vec))\n",
    "for tin_pos, tin_val in enumerate(tin_vec):\n",
    "    total_pagado[tin_pos] = sum(calc_serie_cuota_mensual(tin=tin_val, n_meses=12*anios, prestamo=prestamo, as_array=True))"
   ]
  },
  {
   "cell_type": "code",
   "execution_count": null,
   "metadata": {
    "ExecuteTime": null
   },
   "outputs": [],
   "source": [
    "# Create figure with one Y Axe in this case\n",
    "fig = go.Figure()\n",
    "fig.add_trace(go.Scatter(x=100*tin_a, y=total_pagado,\n",
    "                    mode='lines',\n",
    "                    name='Total pagado al final del prestamo'))\n",
    "# Set x-axis title\n",
    "fig.update_xaxes(title_text=\"Valor del TIN fijo en %\")\n",
    "\n",
    "# Set y-axes titles\n",
    "fig.update_yaxes(title_text=\"Euros\")\n",
    "\n",
    "# Add figure title\n",
    "fig.update_layout(\n",
    "    title_text=\"TIN vs Total pagado con 30 anios\"\n",
    ")\n",
    "\n",
    "fig.show()"
   ]
  },
  {
   "cell_type": "code",
   "execution_count": null,
   "metadata": {
    "ExecuteTime": null
   },
   "outputs": [],
   "source": [
    "# Anios vs Total pagado\n",
    "anios_a = np.arange(15,30,1)\n",
    "total_pagado = np.zeros(len(anios_a))\n",
    "for anios_pos, anios in enumerate(anios_a):\n",
    "    total_pagado[anios_pos] = sum(calc_serie_cuota_mensual(tin=tin, n_meses=12*anios, prestamo=prestamo, as_array = True))"
   ]
  },
  {
   "cell_type": "code",
   "execution_count": null,
   "metadata": {
    "ExecuteTime": null
   },
   "outputs": [],
   "source": [
    "# Create figure with one Y Axe in this case\n",
    "fig = go.Figure()\n",
    "fig.add_trace(go.Scatter(x=anios_a, y=total_pagado,\n",
    "                    mode='lines',\n",
    "                    name='Total pagado al final del prestamo'))\n",
    "# Set x-axis title\n",
    "fig.update_xaxes(title_text=\"Numero anios del prestamo\")\n",
    "\n",
    "# Set y-axes titles\n",
    "fig.update_yaxes(title_text=\"Euros\")\n",
    "\n",
    "# Add figure title\n",
    "fig.update_layout(\n",
    "    title_text=f\"Anios vs Total pagado con tin {100*tin}\"\n",
    ")\n",
    "\n",
    "fig.show()"
   ]
  },
  {
   "cell_type": "code",
   "execution_count": null,
   "metadata": {
    "ExecuteTime": null
   },
   "outputs": [],
   "source": [
    "# Anios vs Cuota mensual\n",
    "anios_a = np.arange(15,30,1)\n",
    "cuota_mensual = np.zeros(len(anios_a))\n",
    "for anios_pos, anios in enumerate(anios_a):\n",
    "    cuota_mensual[anios_pos] = calc_serie_cuota_mensual(tin=tin, n_meses=12*anios, prestamo=prestamo, as_array = False)"
   ]
  },
  {
   "cell_type": "code",
   "execution_count": null,
   "metadata": {
    "ExecuteTime": null
   },
   "outputs": [],
   "source": [
    "# Create figure with one Y Axe in this case\n",
    "fig = go.Figure()\n",
    "fig.add_trace(go.Scatter(x=anios_a, y=cuota_mensual,\n",
    "                    mode='lines',\n",
    "                    name='Cuota Mensual'))\n",
    "# Set x-axis title\n",
    "fig.update_xaxes(title_text=\"Numero anios del prestamo\")\n",
    "\n",
    "# Set y-axes titles\n",
    "fig.update_yaxes(title_text=\"Euros\")\n",
    "\n",
    "# Add figure title\n",
    "fig.update_layout(\n",
    "    title_text=f\"Cuota Mensual vs Anios con tin {100*tin}\"\n",
    ")\n",
    "\n",
    "fig.show()"
   ]
  },
  {
   "cell_type": "code",
   "execution_count": null,
   "metadata": {},
   "outputs": [],
   "source": []
  },
  {
   "cell_type": "code",
   "execution_count": null,
   "metadata": {},
   "outputs": [],
   "source": []
  }
 ],
 "metadata": {
  "kernelspec": {
   "display_name": "Python (N4T)",
   "language": "python",
   "name": "n4t"
  },
  "language_info": {
   "codemirror_mode": {
    "name": "ipython",
    "version": 3
   },
   "file_extension": ".py",
   "mimetype": "text/x-python",
   "name": "python",
   "nbconvert_exporter": "python",
   "pygments_lexer": "ipython3",
   "version": "3.8.3"
  },
  "toc": {
   "base_numbering": 1,
   "nav_menu": {},
   "number_sections": true,
   "sideBar": true,
   "skip_h1_title": false,
   "title_cell": "Table of Contents",
   "title_sidebar": "Contents",
   "toc_cell": false,
   "toc_position": {},
   "toc_section_display": true,
   "toc_window_display": false
  }
 },
 "nbformat": 4,
 "nbformat_minor": 4
}