{
 "cells": [
  {
   "cell_type": "code",
   "execution_count": null,
   "metadata": {
    "ExecuteTime": null
   },
   "outputs": [],
   "source": [
    "import numpy as np\n",
    "import numpy_financial as npf\n",
    "import pandas as pd\n",
    "import plotly.express as px\n",
    "import plotly.figure_factory as ff\n",
    "from plotly.subplots import make_subplots\n",
    "import plotly.graph_objects as go\n",
    "import collections.abc as abc"
   ]
  },
  {
   "cell_type": "markdown",
   "metadata": {},
   "source": [
    "# Insertar parametros principales\n",
    "Insertar los valores de las siguientes variables necesarias para realizar los calculos:  \n",
    "-  **prestamo**: Valor en Euros del prestamo solicitado al banco\n",
    "-  **anios**: Numero de a\u00f1os del prestamo, por ejemplo 15\n",
    "-  **hipoteca_fija**: Insertar:\n",
    "    - `True` si es una hipoteca con tipo interes fijo (en la variable `tin`)\n",
    "    - `False` si es una hipoteca con tipo interes variable dependiente de **Euribor** (variable `euribor cambios`)\n",
    "-  **tin**: Tasa de interes nominal en tanto por 1 (el que suelen indicar los bancos)\n",
    "    - Ejemplo: Para un valor del 1.29% seria `tin=0.0129`\n",
    "    - Se utiliza este valor solo si `hipoteca_fija=True`\n",
    "-  **euribor_inicial**: Valor del Euribor inicial en tanto por 1 al que se le aplican los cambios simulados\n",
    "    - `euribor_inicial=-0.005` (Valor actual a finales de 2020, es decir, '0.5%)\n",
    "    - Se utiliza este valor solo si `hipoteca_fija=False`\n",
    "-  **diferencial**: Valor en tanto por 1 que el banco suma al Euribor para calcular el interes aplicado cada a\u00f1o\n",
    "    - `diferencial=0.0065` (es decir, se le suma al Euribor un 0.65%)\n",
    "    - Se utiliza este valor solo si `hipoteca_fija=False`\n",
    "- **euribor_cambios_dic**: Diccionario con lo que se simula los cambios del Euribor esperados en tanto por 1 **al final de cada a\u00f1o** (los bancos normalmente solo lo revisan 1 vez al a\u00f1o). \n",
    "    - Ejemplo: Simular que el Euribor aumenta un 0.1% al a\u00f1o los primeros 5 a\u00f1os, luego es estable 5 a\u00f1os y vuelve a cambiar hasta en el a\u00f1o 11 que aumenta un 0.6% y 0.3 en el 12 y luego en el a\u00f1o 15 baja un 0.1%:\n",
    "      - `euribor_cambios_dic={1:0.001, 2:0.001, 3:0.001, 4:0.001, 5:0.001, 11:0.006, 12:0.003, 15:-0.001}`\n",
    "    - Se utiliza este valor solo si `hipoteca_fija=False`\n",
    "-  **amortizaciones_dic**: Diccionario con el que se simula el dinero en Euros amortizado **al final de cada a\u00f1o**\n",
    "    - Ejemplo: Simular que los 3 primeros a\u00f1os no se amortiza, luego se empieza a amortizar 5000 euros apartir del cuarto\n",
    "      -  `amortizaciones_dic={4:5000, 5:5000, 6:5000, 7:5000, 8:5000, 9:5000, 10:5000, 11:5000, 12:5000, 13:5000, 14:5000}`\n",
    "    - Si no se quieren introducir amortizaciones simplemente poner `amortizaciones_dic=None`\n",
    "-  **gastos_extra_dic**: Diccionario que simula los gastos adicionales anuales implicados por el banco, como seguros de vida, de hogar etc.\n",
    "      - Ejemplo: Simular que todos los a ademas de la cuota de la hipoteca hay otros 3000 euros de gastos adicionales en seguros todos los meses\n",
    "        -  `gastos_extra_dic={'all':3000}`\n",
    "      - Ejemplo: Simular que los gastos cambian cada a\u00f1o\n",
    "        - `gastos_extra_dic={1:5000, 2:4000, 3:3000, 4:3000, 5:3000, 6:3000, 7:3000, 8:3000, 9:3000, 10:3000, 11:3000, 12:3000, 13:3000, 14:3000, 15:3000}`\n",
    "      - Si no se quieren introducir gastos simplemente poner `gastos_extra_dic=None`"
   ]
  },
  {
   "cell_type": "code",
   "execution_count": null,
   "metadata": {
    "ExecuteTime": null
   },
   "outputs": [],
   "source": [
    "# Parametros rellenados con valores ficticios\n",
    "prestamo = 300000\n",
    "anios =  30 \n",
    "hipoteca_fija = True\n",
    "tin =  0.0129 # Ej Valor ignorado si hipoteca_fija es False\n",
    "euribor_inicial = -0.005 # A 20 Dic de 2020 es el valor aproximado\n",
    "diferencial= 0.0090\n",
    "euribor_cambios_dic = {1:0.001, 2:0.001, 3:0.001, 4:0.001, 5:0.001, 6:0.001, 7:0.003, 8:0.003, 9:0.003}\n",
    "amortizaciones_dic= {1:2000, 2:2000, 3:5000, 4:5000, 5:5000, 6:5000, 7:5000, 8:5000, 9:5000, 10:5000, 11:5000, 12:5000}\n",
    "gastos_extra_dic= {'all':500} # gastos anuales extra totales"
   ]
  },
  {
   "cell_type": "markdown",
   "metadata": {},
   "source": [
    "# Definicion de funciones necesarias"
   ]
  },
  {
   "cell_type": "code",
   "execution_count": null,
   "metadata": {
    "ExecuteTime": null
   },
   "outputs": [],
   "source": [
    "def calc_serie_cuota_mensual(tin, n_meses, prestamo, as_array = False):\n",
    "    i = tin / 12\n",
    "    r = 1/(1+i)\n",
    "    cuota = (1-r)*prestamo / (r - r**(n_meses+1)) # = i * prestamo / (1 - (1+i)^(-n_meses))\n",
    "    if as_array:\n",
    "        return cuota * np.ones(n_meses)\n",
    "    else:\n",
    "        return cuota\n",
    "    \n",
    "def crear_serie_amortizaciones(amortizaciones_dic, total_anios):\n",
    "    amortizaciones_anticipadas = np.zeros(total_anios*12)\n",
    "    for anio,valor_amortizado in amortizaciones_dic.items():\n",
    "        amortizaciones_anticipadas[12*anio-1] = valor_amortizado    \n",
    "    return amortizaciones_anticipadas\n",
    "\n",
    "def crear_serie_tins(euribor_inicial, diferencial, variaciones_euribor_dic, total_anios):\n",
    "    tin_mensuales = np.zeros(total_anios*12+1) # Tambien incluyo una posicion 0 inicial que solo capital vivo tiene\n",
    "    tin_mensuales[1:13] = euribor_inicial + diferencial # Asumo scalar el diferencial por ahora, y solo cambia a final de anio\n",
    "    for anio in range(1,total_anios):\n",
    "        tin_mensuales[12*anio+1:12*(anio+1)+1] = tin_mensuales[12*(anio-1)+1:12*(anio)+1]\n",
    "        if anio in variaciones_euribor_dic.keys():\n",
    "            tin_mensuales[12*anio+1:12*(anio+1)+1] += variaciones_euribor_dic[anio]\n",
    "    return tin_mensuales\n",
    "\n",
    "\n",
    "def crear_serie_gastos_extra(gastos_extra_dic, total_anios):\n",
    "    if 'all' in gastos_extra_dic.keys():\n",
    "        gastos_extra = np.ones(total_anios*12) * gastos_extra_dic['all'] / 12\n",
    "        gastos_extra = np.insert(gastos_extra, 0,0) # Anado un 0 al inicio\n",
    "    else:\n",
    "        gastos_extra = np.zeros(total_anios*12+1)\n",
    "        for anio in range(1,total_anios):\n",
    "            if anio in gastos_extra_dic.keys():\n",
    "                gastos_extra[12*(anio-1)+1:12*(anio)+1] = gastos_extra_dic[anio] / 12\n",
    "    return gastos_extra\n",
    "\n",
    "def calc_tae(prestamo, cuotas, gastos):\n",
    "    flujos_caja = np.zeros(len(cuotas)+1) # +1 por el Mes 0\n",
    "    flujos_caja[0] = -prestamo\n",
    "    flujos_caja[1:] = cuotas + gastos\n",
    "    TIR = npf.irr(flujos_caja)\n",
    "    TAE = (1 + TIR)**12 - 1\n",
    "    return {\"TAE\":TAE,\"TIR\":TIR}\n",
    "\n",
    "def calc_series_mensuales_deudas_intereses_principal(tin, anios, prestamo,a_anticipadas=None, gastos_adicionales=None):\n",
    "    n_meses = 12 * anios\n",
    "    \n",
    "    # Initialization\n",
    "    if not isinstance(tin,abc.Sequence):\n",
    "        tin_mensual = np.ones(n_meses+1)*tin\n",
    "    else:\n",
    "        tin_mensual = tin\n",
    "    capital_vivo = np.zeros(n_meses+1)\n",
    "    capital_amortizado = np.zeros(n_meses+1)\n",
    "    intereses = np.zeros(n_meses+1)\n",
    "    amortizacion = np.zeros(n_meses+1)\n",
    "    mensualidades=np.zeros(n_meses+1)\n",
    "    mensualidades_con_amort=np.zeros(n_meses+1) \n",
    "    if a_anticipadas is None: # Si no hay amortizaciones anticipadas las inicializo todas a cero\n",
    "        a_anticipadas = np.zeros(n_meses) # Luego se prependea un elemento siempre, por eso es n_meses long en lugar de n_meses+1\n",
    "    \n",
    "    # Mes 0 - Valores que no sean 0s\n",
    "    capital_vivo[0] = prestamo\n",
    "    a_anticipadas = np.insert(a_anticipadas, 0,0) # Prepend un 0 en la posicion 0\n",
    "    \n",
    "    for mes in range(1,n_meses+1):\n",
    "        mensualidades[mes] = calc_serie_cuota_mensual(tin=tin_mensual[mes],n_meses=n_meses-mes+1,prestamo=capital_vivo[mes-1]) \n",
    "        mensualidades_con_amort[mes]=mensualidades[mes] + a_anticipadas[mes]\n",
    "        intereses[mes] = capital_vivo[mes-1]*tin_mensual[mes]/12 # Pagas el interes sobre lo que falta por pagar (capital vivo)\n",
    "        amortizacion[mes] = mensualidades_con_amort[mes] - intereses[mes]\n",
    "        capital_vivo[mes] = capital_vivo[mes-1] - amortizacion[mes]\n",
    "        capital_amortizado[mes] = capital_amortizado[mes-1] + amortizacion[mes]\n",
    "        \n",
    "    df = pd.DataFrame(data={\"mensualidades\":mensualidades,\"intereses\":intereses, \"amortizaciones\":amortizacion,\"capital_vivo\":capital_vivo, \"capital_amortizado\":capital_amortizado, \"a_anticipadas\":a_anticipadas,\"mensualidades_con_amort\":mensualidades_con_amort}, index=np.arange(n_meses+1))\n",
    "    if gastos_adicionales is not None:\n",
    "        tae_dic = calc_tae(prestamo, df.loc[:,\"mensualidades_con_amort\"].values[1:], gastos_adicionales[1:])\n",
    "    else:\n",
    "        tae_dic=None\n",
    "    return (df,tae_dic)"
   ]
  },
  {
   "cell_type": "markdown",
   "metadata": {},
   "source": [
    "# Grafica Principales con TAE y Total Intereses pagados"
   ]
  },
  {
   "cell_type": "code",
   "execution_count": null,
   "metadata": {
    "ExecuteTime": null
   },
   "outputs": [],
   "source": [
    "if amortizaciones_dic:\n",
    "    amortizaciones_futuras = crear_serie_amortizaciones(amortizaciones_dic,anios)\n",
    "else:\n",
    "    amortizaciones_futuras=None\n",
    "\n",
    "if gastos_extra_dic:\n",
    "    gastos_extra = crear_serie_gastos_extra(gastos_extra_dic,anios)\n",
    "else:\n",
    "    gastos_extra=None\n",
    "\n",
    "if hipoteca_fija:\n",
    "    df,tae_dic = calc_series_mensuales_deudas_intereses_principal(tin=tin, anios=anios, prestamo=prestamo, a_anticipadas=amortizaciones_futuras, gastos_adicionales=gastos_extra)\n",
    "else:\n",
    "    tin_variables = crear_serie_tins(euribor_inicial=euribor_inicial,diferencial=diferencial,variaciones_euribor_dic=euribor_cambios_dic,total_anios=anios)\n",
    "    df,tae_dic = calc_series_mensuales_deudas_intereses_principal(tin=tin_variables, anios=anios, prestamo=prestamo, a_anticipadas=amortizaciones_futuras,  gastos_adicionales=gastos_extra)\n",
    "\n",
    "# Create figure with one Y Axe in this case\n",
    "fig = go.Figure()\n",
    "fig.add_trace(go.Scatter(x=df.index[1:], y=df.loc[:,\"intereses\"].iloc[1:],\n",
    "                    mode='lines',\n",
    "                    name='Interes pagados mensual'))\n",
    "fig.add_trace(go.Scatter(x=df.index[1:], y=df.loc[:,\"amortizaciones\"].iloc[1:],\n",
    "                    mode='lines',\n",
    "                    name='Amortizacion mensual'))\n",
    "fig.add_trace(go.Scatter(x=df.index[1:], y=df.loc[:,\"mensualidades\"].iloc[1:],\n",
    "                    mode='lines',\n",
    "                    name='Pago/cuota mensual'))\n",
    "# Set x-axis title\n",
    "fig.update_xaxes(title_text=\"Numero de mes\")\n",
    "\n",
    "# Set y-axes titles\n",
    "fig.update_yaxes(title_text=\"Euros\")\n",
    "\n",
    "# Add figure title\n",
    "if hipoteca_fija:\n",
    "    title_text=f\"TIN fijo {100*tin:.2f}% # Amortizado:{prestamo}\u20ac\"\n",
    "else:\n",
    "    title_text=f\"Amortizado:{prestamo}\u20ac\"\n",
    "\n",
    "title_text+=f\" # Total Intereses:{df.loc[:,'intereses'].iloc[1:].sum():.0f}\u20ac\"\n",
    "\n",
    "if tae_dic is not None:\n",
    "    title_text+=f\" # TAE {100*tae_dic['TAE']:.2f}%\"\n",
    "\n",
    "\n",
    "fig.update_layout(title_text=title_text)\n",
    "fig.show()"
   ]
  },
  {
   "cell_type": "code",
   "execution_count": null,
   "metadata": {
    "ExecuteTime": null
   },
   "outputs": [],
   "source": [
    "# Create figure with one Y Axe in this case\n",
    "fig = go.Figure()\n",
    "fig.add_trace(go.Scatter(x=df.index[1:], y=df.loc[:,\"capital_vivo\"].iloc[1:],\n",
    "                    mode='lines',\n",
    "                    name='Capital Vivo restante'))\n",
    "fig.add_trace(go.Scatter(x=df.index[1:], y=df.loc[:,\"capital_amortizado\"].iloc[1:],\n",
    "                    mode='lines',\n",
    "                    name='Capital amortizado total'))\n",
    "fig.add_trace(go.Scatter(x=df.index[1:], y=np.ones(len(df.index[1:]))*prestamo,\n",
    "                    mode='lines',\n",
    "                    name='Prestamo Total'))\n",
    "# Set x-axis title\n",
    "fig.update_xaxes(title_text=\"Numero de mes\")\n",
    "\n",
    "# Set y-axes titles\n",
    "fig.update_yaxes(title_text=\"Euros\")\n",
    "\n",
    "# Add figure title\n",
    "if hipoteca_fija:\n",
    "    title_text=f\"TIN fijo {100*tin:.2f}%\"\n",
    "else:\n",
    "    title_text=\"\"\n",
    "\n",
    "title_text+=f\" # Total Intereses:{df.loc[:,'intereses'].iloc[1:].sum():.0f}\u20ac\"\n",
    "\n",
    "if tae_dic is not None:\n",
    "    title_text+=f\" # TAE {100*tae_dic['TAE']:.2f}%\"\n",
    "\n",
    "\n",
    "fig.update_layout(title_text=title_text)\n",
    "fig.show()"
   ]
  },
  {
   "cell_type": "markdown",
   "metadata": {},
   "source": [
    "# Graficas Secundarias (por terminar)"
   ]
  },
  {
   "cell_type": "code",
   "execution_count": null,
   "metadata": {
    "ExecuteTime": null
   },
   "outputs": [],
   "source": [
    "# Total pagado segun cuando amortizas\n",
    "q_amort = 15000\n",
    "anios_amortizar = list(range(1,anios-3))\n",
    "total_pagado = np.zeros(len(anios_amortizar))\n",
    "for idx,anio in enumerate(anios_amortizar):\n",
    "    amortizaciones_dic = {anio:q_amort,anio+1:q_amort,anio+2:q_amort}\n",
    "    df2 = calc_series_mensuales_deudas_intereses_principal(tin, anios,prestamo,crear_serie_amortizaciones(amortizaciones_dic,anios))\n",
    "    total_pagado[idx] = df.loc[:,\"mensualidades_con_amort\"].sum()"
   ]
  },
  {
   "cell_type": "code",
   "execution_count": null,
   "metadata": {
    "ExecuteTime": null
   },
   "outputs": [],
   "source": [
    "# Create figure with one Y Axe in this case\n",
    "fig = go.Figure()\n",
    "fig.add_trace(go.Scatter(x=anios_amortizar, y=total_pagado,\n",
    "                    mode='lines',\n",
    "                    name='Total pagado al final del prestamo'))\n",
    "# Set x-axis title\n",
    "fig.update_xaxes(title_text=f\"Anio amortizar {q_amort} Euros durante 3 anios\")\n",
    "\n",
    "# Set y-axes titles\n",
    "fig.update_yaxes(title_text=\"Euros\")\n",
    "\n",
    "# Add figure title\n",
    "fig.update_layout(\n",
    "    title_text=f\"Total pagado segun cuando se amorticen 3 x {q_amort} reduciendo cuotra, no a\u00f1os\"\n",
    ")\n",
    "\n",
    "fig.show()"
   ]
  },
  {
   "cell_type": "code",
   "execution_count": null,
   "metadata": {
    "ExecuteTime": null
   },
   "outputs": [],
   "source": [
    "# TIN vs Total pagado\n",
    "tin_vec = np.arange(0.002,0.0185,0.0005)\n",
    "total_pagado = np.zeros(len(tin_vec))\n",
    "for tin_pos, tin_val in enumerate(tin_vec):\n",
    "    total_pagado[tin_pos] = sum(calc_serie_cuota_mensual(tin=tin_val, n_meses=12*anios, prestamo=prestamo, as_array=True))"
   ]
  },
  {
   "cell_type": "code",
   "execution_count": null,
   "metadata": {
    "ExecuteTime": null
   },
   "outputs": [],
   "source": [
    "# Create figure with one Y Axe in this case\n",
    "fig = go.Figure()\n",
    "fig.add_trace(go.Scatter(x=100*tin_a, y=total_pagado,\n",
    "                    mode='lines',\n",
    "                    name='Total pagado al final del prestamo'))\n",
    "# Set x-axis title\n",
    "fig.update_xaxes(title_text=\"Valor del TIN fijo en %\")\n",
    "\n",
    "# Set y-axes titles\n",
    "fig.update_yaxes(title_text=\"Euros\")\n",
    "\n",
    "# Add figure title\n",
    "fig.update_layout(\n",
    "    title_text=\"TIN vs Total pagado con 30 anios\"\n",
    ")\n",
    "\n",
    "fig.show()"
   ]
  },
  {
   "cell_type": "code",
   "execution_count": null,
   "metadata": {
    "ExecuteTime": null
   },
   "outputs": [],
   "source": [
    "# Anios vs Total pagado\n",
    "anios_a = np.arange(15,30,1)\n",
    "total_pagado = np.zeros(len(anios_a))\n",
    "for anios_pos, anios in enumerate(anios_a):\n",
    "    total_pagado[anios_pos] = sum(calc_serie_cuota_mensual(tin=tin, n_meses=12*anios, prestamo=prestamo, as_array = True))"
   ]
  },
  {
   "cell_type": "code",
   "execution_count": null,
   "metadata": {
    "ExecuteTime": null
   },
   "outputs": [],
   "source": [
    "# Create figure with one Y Axe in this case\n",
    "fig = go.Figure()\n",
    "fig.add_trace(go.Scatter(x=anios_a, y=total_pagado,\n",
    "                    mode='lines',\n",
    "                    name='Total pagado al final del prestamo'))\n",
    "# Set x-axis title\n",
    "fig.update_xaxes(title_text=\"Numero anios del prestamo\")\n",
    "\n",
    "# Set y-axes titles\n",
    "fig.update_yaxes(title_text=\"Euros\")\n",
    "\n",
    "# Add figure title\n",
    "fig.update_layout(\n",
    "    title_text=f\"Anios vs Total pagado con tin {100*tin}\"\n",
    ")\n",
    "\n",
    "fig.show()"
   ]
  },
  {
   "cell_type": "code",
   "execution_count": null,
   "metadata": {
    "ExecuteTime": null
   },
   "outputs": [],
   "source": [
    "# Anios vs Cuota mensual\n",
    "anios_a = np.arange(15,30,1)\n",
    "cuota_mensual = np.zeros(len(anios_a))\n",
    "for anios_pos, anios in enumerate(anios_a):\n",
    "    cuota_mensual[anios_pos] = calc_serie_cuota_mensual(tin=tin, n_meses=12*anios, prestamo=prestamo, as_array = False)"
   ]
  },
  {
   "cell_type": "code",
   "execution_count": null,
   "metadata": {
    "ExecuteTime": null
   },
   "outputs": [],
   "source": [
    "# Create figure with one Y Axe in this case\n",
    "fig = go.Figure()\n",
    "fig.add_trace(go.Scatter(x=anios_a, y=cuota_mensual,\n",
    "                    mode='lines',\n",
    "                    name='Cuota Mensual'))\n",
    "# Set x-axis title\n",
    "fig.update_xaxes(title_text=\"Numero anios del prestamo\")\n",
    "\n",
    "# Set y-axes titles\n",
    "fig.update_yaxes(title_text=\"Euros\")\n",
    "\n",
    "# Add figure title\n",
    "fig.update_layout(\n",
    "    title_text=f\"Cuota Mensual vs Anios con tin {100*tin}\"\n",
    ")\n",
    "\n",
    "fig.show()"
   ]
  },
  {
   "cell_type": "code",
   "execution_count": null,
   "metadata": {},
   "outputs": [],
   "source": []
  },
  {
   "cell_type": "code",
   "execution_count": null,
   "metadata": {},
   "outputs": [],
   "source": []
  }
 ],
 "metadata": {
  "kernelspec": {
   "display_name": "Python (N4T)",
   "language": "python",
   "name": "n4t"
  },
  "language_info": {
   "codemirror_mode": {
    "name": "ipython",
    "version": 3
   },
   "file_extension": ".py",
   "mimetype": "text/x-python",
   "name": "python",
   "nbconvert_exporter": "python",
   "pygments_lexer": "ipython3",
   "version": "3.8.3"
  },
  "toc": {
   "base_numbering": 1,
   "nav_menu": {},
   "number_sections": true,
   "sideBar": true,
   "skip_h1_title": false,
   "title_cell": "Table of Contents",
   "title_sidebar": "Contents",
   "toc_cell": false,
   "toc_position": {},
   "toc_section_display": true,
   "toc_window_display": false
  }
 },
 "nbformat": 4,
 "nbformat_minor": 4
}