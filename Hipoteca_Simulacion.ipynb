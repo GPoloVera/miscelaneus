{
 "cells": [
  {
   "cell_type": "code",
   "execution_count": null,
   "metadata": {
    "ExecuteTime": null
   },
   "outputs": [],
   "source": [
    "import numpy as np\n",
    "import numpy_financial as npf\n",
    "import pandas as pd\n",
    "import plotly.express as px\n",
    "import plotly.figure_factory as ff\n",
    "from plotly.subplots import make_subplots\n",
    "import plotly.graph_objects as go"
   ]
  },
  {
   "cell_type": "code",
   "execution_count": null,
   "metadata": {
    "ExecuteTime": null
   },
   "outputs": [],
   "source": [
    "# Parametros\n",
    "precio_casa = 465000\n",
    "ahorros = 125000\n",
    "prestamo = 372000\n",
    "itp = 0.06 # Impuesto transmisiones patrimoniales (Madrid)\n",
    "notario = 1600\n",
    "registro = 800\n",
    "gestoria = 350\n",
    "tasacion = 875\n",
    "anios = 30\n",
    "tin = 0.013 # Tasa interes nominal (es anual no mensual)"
   ]
  },
  {
   "cell_type": "code",
   "execution_count": null,
   "metadata": {},
   "outputs": [],
   "source": [
    "# # Calculos derivados\n",
    "# def calc_prestamo_inicial(precio_casa, ahorros, default_inicial = None):\n",
    "#     if not default_inicial:\n",
    "#         prestamo = precio_casa - (ahorros - itp*precio_casa - notario - registro - gestoria - tasacion)\n",
    "#     else:\n",
    "#         prestamo = default_inicial\n",
    "#     return prestamo\n",
    "\n",
    "# def calc_serie_cuota_mensual(tin, anios, precio_casa, ahorros, as_array = True, default_inicial = None):\n",
    "#     i = tin / 12\n",
    "#     r = 1/(1+i)\n",
    "#     meses = 12 * anios\n",
    "#     prestamo = calc_prestamo_inicial(precio_casa, ahorros,default_inicial)\n",
    "#     cuota = (1-r)*prestamo / (r - r**(meses+1)) # No uso aproximacion por exponencial\n",
    "#     if as_array:\n",
    "#         return cuota * np.ones(meses)\n",
    "#     else:\n",
    "#         return cuota\n",
    "\n",
    "# def calc_series_mensuales_deudas_intereses_principal(tin, anios, prestamo,cuota_mensual,extra_amortizaciones=0):\n",
    "#     i = tin/12\n",
    "#     meses = 12 * anios\n",
    "#     # Initialization\n",
    "#     deuda_mensual_prepago = np.zeros(meses)\n",
    "#     deuda_mensual_postpago = np.zeros(meses)\n",
    "#     interes_mensual = np.zeros(meses)\n",
    "#     principal_mensual = np.zeros(meses)\n",
    "#     # Fisrt values\n",
    "#     interes_mensual[0] = i * prestamo\n",
    "#     deuda_mensual_prepago[0] = prestamo + interes_mensual[0] # El primer mes es el total mas el interes\n",
    "#     deuda_mensual_postpago[0] = deuda_mensual_prepago[0] - cuota_mensual[0]\n",
    "#     principal_mensual[0] = cuota_mensual[0] - interes_mensual[0]\n",
    "    \n",
    "#     for mes in range(1,meses):\n",
    "#         interes_mensual[mes] = deuda_mensual_prepago[mes-1]*i\n",
    "#         deuda_mensual_prepago[mes] = (deuda_mensual_prepago[mes-1] - cuota_mensual[mes-1]) + interes_mensual[mes]\n",
    "#         deuda_mensual_postpago[mes] = deuda_mensual_prepago[mes] - cuota_mensual[mes]\n",
    "#         principal_mensual[mes] = cuota_mensual[mes] - interes_mensual[mes]\n",
    "        \n",
    "#     return pd.DataFrame(data={\"interes_mensual\":interes_mensual, \"deuda_mensual_prepago\":deuda_mensual_prepago,\"deuda_mensual_postpago\":deuda_mensual_postpago, \"principal_mensual\":principal_mensual}, index=np.arange(1,meses+1))\n"
   ]
  },
  {
   "cell_type": "code",
   "execution_count": null,
   "metadata": {
    "ExecuteTime": null
   },
   "outputs": [],
   "source": [
    "def calc_serie_cuota_mensual(tin, anios, prestamo, as_array = True):\n",
    "    i = tin / 12\n",
    "    r = 1/(1+i)\n",
    "    meses = 12 * anios\n",
    "    cuota = (1-r)*prestamo / (r - r**(meses+1)) # = i * prestamo / (1 - (1+i)^(-meses))\n",
    "    if as_array:\n",
    "        return cuota * np.ones(meses)\n",
    "    else:\n",
    "        return cuota\n",
    "\n",
    "def calc_series_mensuales_deudas_intereses_principal(tin, anios, prestamo,cuota_mensual,extra_amortizaciones=0):\n",
    "    i = tin/12\n",
    "    meses = 12 * anios\n",
    "    # Initialization\n",
    "    capital_vivo = np.zeros(meses+1)\n",
    "    capital_amortizado = np.zeros(meses+1)\n",
    "    intereses = np.zeros(meses+1)\n",
    "    amortizacion = np.zeros(meses+1)\n",
    "    # Mes 0 - Valores\n",
    "    intereses[0] = 0\n",
    "    amortizacion[0] = 0\n",
    "    capital_vivo[0] = prestamo\n",
    "    capital_amortizado[0] = 0\n",
    "\n",
    "    for mes in range(1,meses+1):\n",
    "        intereses[mes] = capital_vivo[mes-1]*i # Pagas el i sobre lo que falta por pagar (capital vivo)\n",
    "        amortizacion[mes] = cuota_mensual[mes-1] - intereses[mes] # Cuota es intereses + amortizacion (cuto es en mes -1 porque son \"#meses\" cuotas no \"#meses+1\" como el resto que tienen el mes 0)\n",
    "        capital_vivo[mes] = capital_vivo[mes-1] - amortizacion[mes]\n",
    "        capital_amortizado[mes] = capital_amortizado[mes-1] + amortizacion[mes]\n",
    "        \n",
    "    return pd.DataFrame(data={\"intereses\":intereses, \"amortizaciones\":amortizacion,\"capital_vivo\":capital_vivo, \"capital_amortizado\":capital_amortizado}, index=np.arange(meses+1))\n",
    "\n",
    "def calc_tae(prestamo, cuotas, gastos):\n",
    "    flujos_caja = np.zeros(len(cuotas)+1) # +1 por el Mes 0\n",
    "    flujos_caja[0] = -prestamo\n",
    "    flujos_caja[1:] = cuotas + gastos\n",
    "    TIR = npf.irr(flujos_caja)\n",
    "    TAE = (1 + TIR)**12 - 1\n",
    "    return {\"TAE\":TAE,\"TIR\":TIR}"
   ]
  },
  {
   "cell_type": "code",
   "execution_count": null,
   "metadata": {
    "ExecuteTime": null
   },
   "outputs": [],
   "source": [
    "cuotas = calc_serie_cuota_mensual(tin=tin, anios=anios, prestamo=prestamo, as_array=True)\n",
    "df = calc_series_mensuales_deudas_intereses_principal(tin, anios,prestamo,cuotas)\n",
    "\n",
    "# Create figure with one Y Axe in this case\n",
    "fig = go.Figure()\n",
    "fig.add_trace(go.Scatter(x=df.index[1:], y=df.loc[:,\"intereses\"].iloc[1:],\n",
    "                    mode='lines',\n",
    "                    name='Interes pagado mensual'))\n",
    "fig.add_trace(go.Scatter(x=df.index[1:], y=df.loc[:,\"amortizaciones\"].iloc[1:],\n",
    "                    mode='lines',\n",
    "                    name='Amortizacion mensual'))\n",
    "fig.add_trace(go.Scatter(x=df.index[1:], y=cuotas,\n",
    "                    mode='lines',\n",
    "                    name='Cuota mensual'))\n",
    "# Set x-axis title\n",
    "fig.update_xaxes(title_text=\"Numero de mes\")\n",
    "\n",
    "# Set y-axes titles\n",
    "fig.update_yaxes(title_text=\"Euros\")\n",
    "\n",
    "# Add figure title\n",
    "fig.update_layout(\n",
    "    title_text=f\"Intereses vs principal con tin {100*tin}%\"\n",
    ")\n",
    "\n",
    "fig.show()"
   ]
  },
  {
   "cell_type": "code",
   "execution_count": null,
   "metadata": {
    "ExecuteTime": null
   },
   "outputs": [],
   "source": [
    "# TIN vs Total pagado\n",
    "tin_a = np.arange(0.008,0.0185,0.0005)\n",
    "total_pagado = np.zeros(len(tin_a))\n",
    "for tin_pos, tin in enumerate(tin_a):\n",
    "    total_pagado[tin_pos] = sum(calc_serie_cuota_mensual(tin=tin, anios=anios, prestamo=prestamo, as_array=True))"
   ]
  },
  {
   "cell_type": "code",
   "execution_count": null,
   "metadata": {
    "ExecuteTime": null
   },
   "outputs": [],
   "source": [
    "# Create figure with one Y Axe in this case\n",
    "fig = go.Figure()\n",
    "fig.add_trace(go.Scatter(x=100*tin_a, y=total_pagado,\n",
    "                    mode='lines',\n",
    "                    name='Total pagado al final del prestamo'))\n",
    "# Set x-axis title\n",
    "fig.update_xaxes(title_text=\"Valor del TIN fijo en %\")\n",
    "\n",
    "# Set y-axes titles\n",
    "fig.update_yaxes(title_text=\"Euros\")\n",
    "\n",
    "# Add figure title\n",
    "fig.update_layout(\n",
    "    title_text=\"TIN vs Total pagado con 30 anios\"\n",
    ")\n",
    "\n",
    "fig.show()"
   ]
  },
  {
   "cell_type": "code",
   "execution_count": null,
   "metadata": {
    "ExecuteTime": null
   },
   "outputs": [],
   "source": [
    "# Anios vs Total pagado\n",
    "anios_a = np.arange(15,30,1)\n",
    "total_pagado = np.zeros(len(anios_a))\n",
    "for anios_pos, anios in enumerate(anios_a):\n",
    "    total_pagado[anios_pos] = sum(calc_serie_cuota_mensual(0.013, anios, precio_casa, ahorros, as_array = True))"
   ]
  },
  {
   "cell_type": "code",
   "execution_count": null,
   "metadata": {
    "ExecuteTime": null
   },
   "outputs": [],
   "source": [
    "# Create figure with one Y Axe in this case\n",
    "fig = go.Figure()\n",
    "fig.add_trace(go.Scatter(x=anios_a, y=total_pagado,\n",
    "                    mode='lines',\n",
    "                    name='Total pagado al final del prestamo'))\n",
    "# Set x-axis title\n",
    "fig.update_xaxes(title_text=\"Numero anios del prestamo\")\n",
    "\n",
    "# Set y-axes titles\n",
    "fig.update_yaxes(title_text=\"Euros\")\n",
    "\n",
    "# Add figure title\n",
    "fig.update_layout(\n",
    "    title_text=\"Anios vs Total pagado con tin 1.29\"\n",
    ")\n",
    "\n",
    "fig.show()"
   ]
  },
  {
   "cell_type": "code",
   "execution_count": null,
   "metadata": {
    "ExecuteTime": null
   },
   "outputs": [],
   "source": [
    "# Anios vs Cuota mensual\n",
    "anios_a = np.arange(15,30,1)\n",
    "cuota_mensual = np.zeros(len(anios_a))\n",
    "for anios_pos, anios in enumerate(anios_a):\n",
    "    cuota_mensual[anios_pos] = calc_serie_cuota_mensual(0.013, anios, precio_casa, ahorros, as_array = False)"
   ]
  },
  {
   "cell_type": "code",
   "execution_count": null,
   "metadata": {
    "ExecuteTime": null
   },
   "outputs": [],
   "source": [
    "# Create figure with one Y Axe in this case\n",
    "fig = go.Figure()\n",
    "fig.add_trace(go.Scatter(x=anios_a, y=cuota_mensual,\n",
    "                    mode='lines',\n",
    "                    name='Cuota Mensual'))\n",
    "# Set x-axis title\n",
    "fig.update_xaxes(title_text=\"Numero anios del prestamo\")\n",
    "\n",
    "# Set y-axes titles\n",
    "fig.update_yaxes(title_text=\"Euros\")\n",
    "\n",
    "# Add figure title\n",
    "fig.update_layout(\n",
    "    title_text=\"Cuota Mensual vs Anios con tin 1.29\"\n",
    ")\n",
    "\n",
    "fig.show()"
   ]
  },
  {
   "cell_type": "code",
   "execution_count": null,
   "metadata": {},
   "outputs": [],
   "source": []
  }
 ],
 "metadata": {
  "kernelspec": {
   "display_name": "Python (N4T)",
   "language": "python",
   "name": "n4t"
  },
  "language_info": {
   "codemirror_mode": {
    "name": "ipython",
    "version": 3
   },
   "file_extension": ".py",
   "mimetype": "text/x-python",
   "name": "python",
   "nbconvert_exporter": "python",
   "pygments_lexer": "ipython3",
   "version": "3.8.3"
  },
  "toc": {
   "base_numbering": 1,
   "nav_menu": {},
   "number_sections": true,
   "sideBar": true,
   "skip_h1_title": false,
   "title_cell": "Table of Contents",
   "title_sidebar": "Contents",
   "toc_cell": false,
   "toc_position": {},
   "toc_section_display": true,
   "toc_window_display": false
  }
 },
 "nbformat": 4,
 "nbformat_minor": 4
}